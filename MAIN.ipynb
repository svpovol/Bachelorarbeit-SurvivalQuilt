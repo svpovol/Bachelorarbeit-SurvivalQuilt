{
 "cells": [
  {
   "cell_type": "markdown",
   "metadata": {},
   "source": [
    "# Survival analysis in credit risk modeling: application of the time-varying ensemble approach\n",
    "### Svetlana Povolotskaia (591176)\n"
   ]
  },
  {
   "cell_type": "markdown",
   "metadata": {},
   "source": [
    "### First packages are imported. After that, all necessary functions, time intervals and hyperparameters are defined. This code is based on the codes provided by Lee, Zame, et al. (2019) via https://github.com/chl8856/SurvivalQuilts.git"
   ]
  },
  {
   "cell_type": "code",
   "execution_count": 17,
   "metadata": {},
   "outputs": [],
   "source": [
    "import warnings\n",
    "warnings.filterwarnings(\"ignore\")"
   ]
  },
  {
   "cell_type": "code",
   "execution_count": 18,
   "metadata": {},
   "outputs": [],
   "source": [
    "import pandas as pd\n",
    "import numpy as np\n",
    "import sys, os\n",
    "\n",
    "from sklearn.model_selection import train_test_split, StratifiedKFold\n",
    "from sklearn.metrics import mean_squared_error\n",
    "\n",
    "#user defined\n",
    "from class_SurvivalQuilts import SurvivalQuilts\n",
    "from utils_eval import calc_metrics"
   ]
  },
  {
   "cell_type": "markdown",
   "metadata": {},
   "source": [
    "# IMPORT DATASET\n",
    "### Example for the dataset ndb9 with Y = default \n",
    "### To reimplement the experiment, one needs to change the path to the data ('file')"
   ]
  },
  {
   "cell_type": "code",
   "execution_count": 19,
   "metadata": {},
   "outputs": [
    {
     "data": {
      "text/plain": [
       "([12, 21, 31], (10000, 25))"
      ]
     },
     "execution_count": 19,
     "metadata": {},
     "output_type": "execute_result"
    }
   ],
   "source": [
    "#=================================================================#\n",
    "##### USER-DEFINED FUNCTIONS\n",
    "def f_get_Normalization(X, norm_mode):\n",
    "    num_Patient, num_Feature = np.shape(X)\n",
    "\n",
    "    if norm_mode == 'standard': #zero mean unit variance\n",
    "        for j in range(num_Feature):\n",
    "            if np.std(X[:,j]) != 0:\n",
    "                X[:,j] = (X[:,j] - np.mean(X[:, j]))/np.std(X[:,j])\n",
    "            else:\n",
    "                X[:,j] = (X[:,j] - np.mean(X[:, j]))\n",
    "    elif norm_mode == 'normal': #min-max normalization\n",
    "        for j in range(num_Feature):\n",
    "            X[:,j] = (X[:,j] - np.min(X[:,j]))/(np.max(X[:,j]) - np.min(X[:,j]))\n",
    "    else:\n",
    "        print(\"INPUT MODE ERROR!\")\n",
    "\n",
    "    return X\n",
    "#=================================================================#\n",
    "\n",
    "\n",
    "\n",
    "##### DATASET SELECTION\n",
    "file = '/Users/svpovol/Desktop/Bachelorarbeit/main_ordner/Data/hu_gitHub/ndb9.csv'\n",
    "SEED    = 1111\n",
    "data_mode = 'finance'  \n",
    "        \n",
    "if data_mode == 'finance':\n",
    "    df = pd.read_csv(file, sep=',')\n",
    "    Y           = df[['default']]    # here can be changed to 'payoff'\n",
    "    T            = df[['time']]\n",
    "    df = df.drop(['label', 'payoff', 'current_year','default','time'], axis=1)\n",
    "    X = df\n",
    "    SEED    = 4321\n",
    "### option with normalization\n",
    "#cols = df.columns\n",
    "#data            = np.asarray(df[cols])\n",
    "#data            = f_get_Normalization(data, 'standard')\n",
    "#X = pd.DataFrame(data,columns= cols)\n",
    "\n",
    "tmp_folder = './results/' + data_mode + ' (seed ' + str(SEED) +')/'\n",
    "if not os.path.exists(tmp_folder):\n",
    "    os.makedirs(tmp_folder)\n",
    "\n",
    "\n",
    "# eval_time_horizons can be selected based on one's interest.\n",
    "eval_time_horizons = [int(T[Y.iloc[:,0] == 1].quantile(0.25)), int(T[Y.iloc[:,0] == 1].quantile(0.50)), int(T[Y.iloc[:,0] == 1].quantile(0.75))]\n",
    "\n",
    "\n",
    "tr_X,te_X, tr_T,te_T, tr_Y,te_Y = train_test_split(X, T, Y, test_size=0.2, random_state=1234)\n",
    "eval_time_horizons, X.shape"
   ]
  },
  {
   "cell_type": "markdown",
   "metadata": {},
   "source": [
    "# TRAIN SURVIVAL QUILTS"
   ]
  },
  {
   "cell_type": "code",
   "execution_count": 20,
   "metadata": {
    "scrolled": true
   },
   "outputs": [
    {
     "name": "stdout",
     "output_type": "stream",
     "text": [
      "/Users/svpovol/Desktop/Bachelorarbeit/main_ordner/Data/hu_gitHub/ndb9.csv\n",
      "initial training of underlying models...\n",
      "CV.. 1/5\n",
      "CV.. 2/5\n",
      "CV.. 3/5\n",
      "CV.. 4/5\n",
      "CV.. 5/5\n",
      "TIME K = 0\n",
      "[[0.         0.         0.         0.         0.         0.99999999]\n",
      " [0.         0.         0.         0.         0.         0.99999999]\n",
      " [0.         0.         0.         0.         0.         0.99999999]\n",
      " [0.         0.         0.         0.         0.         0.99999999]\n",
      " [0.         0.         0.         0.         0.         0.99999999]\n",
      " [0.         0.         0.         0.         0.         0.99999999]]\n",
      "beta:  0.4347193579396167\n",
      "[[0.         0.         0.         0.         0.         0.99999999]]\n",
      "[[-0.69304046]]\n",
      "=========== BO Finished ===========\n",
      "out_itr: 0 | BEST X: [[0.         0.         0.         0.         0.         0.99999999]]\n",
      "-0.75\n",
      "out_itr: 0 | Lambda: 1.3467626555042038 | Rho: 0.25\n",
      "[[0.         0.         0.         0.         0.         0.99999999]]\n",
      "[[-0.3146599]]\n",
      "=========== BO Finished ===========\n",
      "out_itr: 1 | BEST X: [[0.         0.         0.         0.         0.         0.99999999]]\n",
      "-0.75\n",
      "out_itr: 1 | Lambda: 4.0402879665126115 | Rho: 0.125\n",
      "[[0.         0.         0.         0.         0.         0.99999999]]\n",
      "[[0.44210123]]\n",
      "=========== BO Finished ===========\n",
      "out_itr: 2 | BEST X: [[0.         0.         0.         0.         0.         0.99999999]]\n",
      "-0.75\n",
      "out_itr: 2 | Lambda: 9.427338588529427 | Rho: 0.0625\n",
      "TIME K = 1\n",
      "[[0.         0.         0.         0.         0.         0.99999999]\n",
      " [0.         0.         0.         0.         0.         0.99999999]\n",
      " [0.         0.         0.         0.         0.         0.99999999]\n",
      " [0.         0.         0.         0.         0.         0.99999999]\n",
      " [0.         0.         0.         0.         0.         0.99999999]\n",
      " [0.         0.         0.         0.         0.         0.99999999]]\n",
      "beta:  0.6733202520102239\n",
      "[[0.         0.         0.         0.         0.         0.99999999]]\n",
      "[[-0.5945546]]\n",
      "=========== BO Finished ===========\n",
      "out_itr: 0 | BEST X: [[0.         0.         0.         0.         0.         0.99999999]]\n",
      "-0.75\n",
      "out_itr: 0 | Lambda: 2.135171809642388 | Rho: 0.25\n",
      "[[0.         0.         0.         0.         0.         0.99999999]]\n",
      "[[0.40271572]]\n",
      "=========== BO Finished ===========\n",
      "out_itr: 1 | BEST X: [[0.         0.         0.         0.         0.         0.99999999]]\n",
      "-0.75\n",
      "out_itr: 1 | Lambda: 6.405515428927163 | Rho: 0.125\n",
      "[[0.         0.         0.         0.         0.         0.99999999]]\n",
      "[[2.39725634]]\n",
      "=========== BO Finished ===========\n",
      "out_itr: 2 | BEST X: [[0.         0.         0.         0.         0.         0.99999999]]\n",
      "-0.75\n",
      "out_itr: 2 | Lambda: 14.946202667496715 | Rho: 0.0625\n",
      "TIME K = 2\n",
      "[[0.         0.         0.         0.         0.         0.99999999]\n",
      " [0.         0.         0.         0.         0.         0.99999999]\n",
      " [0.         0.         0.         0.         0.         0.99999999]\n",
      " [0.         0.         0.         0.         0.         0.99999999]\n",
      " [0.         0.         0.         0.         0.         0.99999999]\n",
      " [0.         0.         0.         0.         0.         0.99999999]]\n",
      "beta:  0.8189496437562678\n",
      "[[0.         0.         0.         0.         0.         0.99999999]]\n",
      "[[-0.47888301]]\n",
      "=========== BO Finished ===========\n",
      "out_itr: 0 | BEST X: [[0.         0.         0.         0.         0.         0.99999999]]\n",
      "-0.75\n",
      "out_itr: 0 | Lambda: 2.6792771938102566 | Rho: 0.25\n",
      "[[0.         0.         0.         0.         0.         0.99999999]]\n",
      "[[1.18730401]]\n",
      "=========== BO Finished ===========\n",
      "out_itr: 1 | BEST X: [[0.         0.         0.         0.         0.         0.99999999]]\n",
      "-0.75\n",
      "out_itr: 1 | Lambda: 8.037831581430769 | Rho: 0.125\n",
      "[[0.         0.         0.         0.         0.         0.99999999]]\n",
      "[[4.51967806]]\n",
      "=========== BO Finished ===========\n",
      "out_itr: 2 | BEST X: [[0.         0.         0.         0.         0.         0.99999999]]\n",
      "-0.75\n",
      "out_itr: 2 | Lambda: 18.754940356671796 | Rho: 0.0625\n",
      "TIME K = 3\n",
      "[[0.         0.         0.         0.         0.         0.99999999]\n",
      " [0.         0.         0.         0.         0.         0.99999999]\n",
      " [0.         0.         0.         0.         0.         0.99999999]\n",
      " [0.         0.         0.         0.         0.         0.99999999]\n",
      " [0.         0.         0.         0.         0.         0.99999999]\n",
      " [0.         0.         0.         0.         0.         0.99999999]]\n",
      "beta:  0.8885228601667656\n",
      "[[0.         0.         0.         0.         0.         0.99999999]]\n",
      "[[-0.40699424]]\n",
      "=========== BO Finished ===========\n",
      "out_itr: 0 | BEST X: [[0.         0.         0.         0.         0.         0.99999999]]\n",
      "-0.75\n",
      "out_itr: 0 | Lambda: 2.9483795905041874 | Rho: 0.25\n",
      "[[0.         0.         0.         0.         0.         0.99999999]]\n",
      "[[1.66277996]]\n",
      "=========== BO Finished ===========\n",
      "out_itr: 1 | BEST X: [[0.         0.         0.         0.         0.         0.99999999]]\n",
      "-0.75\n",
      "out_itr: 1 | Lambda: 8.845138771512563 | Rho: 0.125\n",
      "[[0.         0.         0.         0.         0.         0.99999999]]\n",
      "[[5.80232835]]\n",
      "=========== BO Finished ===========\n",
      "out_itr: 2 | BEST X: [[0.         0.         0.         0.         0.         0.99999999]]\n",
      "-0.75\n",
      "out_itr: 2 | Lambda: 20.638657133529314 | Rho: 0.0625\n",
      "TIME K = 4\n",
      "[[0.         0.         0.         0.         0.         0.99999999]\n",
      " [0.         0.         0.         0.         0.         0.99999999]\n",
      " [0.         0.         0.         0.         0.         0.99999999]\n",
      " [0.         0.         0.         0.         0.         0.99999999]\n",
      " [0.         0.         0.         0.         0.         0.99999999]\n",
      " [0.         0.         0.         0.         0.         0.99999999]]\n",
      "beta:  0.9202693579450271\n",
      "[[0.         0.         0.         0.         0.         0.99999999]]\n",
      "[[-0.46687389]]\n",
      "=========== BO Finished ===========\n",
      "out_itr: 0 | BEST X: [[0.         0.         0.         0.         0.         0.99999999]]\n",
      "-0.6666666666666666\n",
      "out_itr: 0 | Lambda: 2.734502427077342 | Rho: 0.25\n",
      "[[0.         0.         0.         0.         0.         0.99999999]]\n",
      "[[0.95519186]]\n",
      "=========== BO Finished ===========\n",
      "out_itr: 1 | BEST X: [[0.         0.         0.         0.         0.         0.99999999]]\n",
      "-0.6666666666666666\n",
      "out_itr: 1 | Lambda: 8.203507281232026 | Rho: 0.125\n",
      "[[0.         0.         0.         0.         0.         0.99999999]]\n",
      "[[3.79932336]]\n",
      "=========== BO Finished ===========\n",
      "out_itr: 2 | BEST X: [[0.         0.         0.         0.         0.         0.99999999]]\n",
      "-0.6666666666666666\n",
      "out_itr: 2 | Lambda: 19.141516989541394 | Rho: 0.0625\n",
      "TIME K = 5\n",
      "[[0.         0.         0.         0.         0.         0.99999999]\n",
      " [0.         0.         0.         0.         0.         0.99999999]\n",
      " [0.         0.         0.         0.         0.         0.99999999]\n",
      " [0.         0.         0.         0.         0.         0.99999999]\n",
      " [0.         0.         0.         0.         0.         0.99999999]\n",
      " [0.         0.         0.         0.         0.         0.99999999]]\n",
      "beta:  0.9330826181212228\n",
      "[[0.         0.         0.         0.99999999 0.         0.        ]]\n",
      "[[-0.50523498]]\n",
      "=========== BO Finished ===========\n",
      "out_itr: 0 | BEST X: [[0.         0.         0.         0.99999999 0.         0.        ]]\n",
      "-0.5833333333333334\n",
      "out_itr: 0 | Lambda: 2.425086888533518 | Rho: 0.25\n",
      "[[0.         0.         0.         0.99999999 0.         0.        ]]\n",
      "[[0.25058016]]\n",
      "=========== BO Finished ===========\n",
      "out_itr: 1 | BEST X: [[0.         0.         0.         0.99999999 0.         0.        ]]\n",
      "-0.5833333333333334\n",
      "out_itr: 1 | Lambda: 7.2752606656005545 | Rho: 0.125\n",
      "[[0.         0.         0.         0.99999999 0.         0.        ]]\n",
      "[[1.76221044]]\n",
      "=========== BO Finished ===========\n",
      "out_itr: 2 | BEST X: [[0.         0.         0.         0.99999999 0.         0.        ]]\n",
      "-0.5833333333333334\n",
      "out_itr: 2 | Lambda: 16.975608219734628 | Rho: 0.0625\n"
     ]
    }
   ],
   "source": [
    "print(file)\n",
    "model_sq = SurvivalQuilts(K=6,num_bo=25, num_cv=5,num_outer=3,step_ahead=2)\n",
    "model_sq.train(tr_X, tr_T, tr_Y)\n",
    "\n",
    "#save model\n",
    "import pickle \n",
    "filename = './results/' + 'SurvivalQuilts.sav'\n",
    "pickle.dump(model_sq, open(filename, 'wb'))"
   ]
  },
  {
   "cell_type": "markdown",
   "metadata": {},
   "source": [
    "# TEST SURVIVAL QUILTS"
   ]
  },
  {
   "cell_type": "code",
   "execution_count": 32,
   "metadata": {
    "scrolled": false
   },
   "outputs": [
    {
     "name": "stdout",
     "output_type": "stream",
     "text": [
      " C-Index               Brier Score\n",
      "(0.9977832086282529, 0.2981981727659572)\n",
      "(0.9937583129849452, 0.5793767920941533)\n",
      "(0.9902026867919621, 0.7893484420412433)\n"
     ]
    },
    {
     "data": {
      "text/plain": [
       "array([[0.        , 0.        , 0.        , 0.        , 0.        ,\n",
       "        0.99999999],\n",
       "       [0.        , 0.        , 0.        , 0.        , 0.        ,\n",
       "        0.99999999],\n",
       "       [0.        , 0.        , 0.        , 0.        , 0.        ,\n",
       "        0.99999999],\n",
       "       [0.        , 0.        , 0.        , 0.        , 0.        ,\n",
       "        0.99999999],\n",
       "       [0.        , 0.        , 0.        , 0.        , 0.        ,\n",
       "        0.99999999],\n",
       "       [0.        , 0.        , 0.        , 0.        , 0.        ,\n",
       "        0.99999999]])"
      ]
     },
     "execution_count": 32,
     "metadata": {},
     "output_type": "execute_result"
    }
   ],
   "source": [
    "# Prediction and calibration & discrimination performance for SurvivalQuilt:\n",
    "pred = model_sq.predict(te_X, eval_time_horizons)\n",
    "print(' C-Index               Brier Score')\n",
    "for e_idx, eval_time in enumerate(eval_time_horizons):\n",
    "    print( calc_metrics(tr_T, tr_Y, te_T, te_Y, pred[:, e_idx], eval_time) )\n",
    "\n",
    "# Distributin of weights between survival models:\n",
    "model_sq.quilting_patterns    "
   ]
  },
  {
   "cell_type": "code",
   "execution_count": 22,
   "metadata": {},
   "outputs": [
    {
     "name": "stdout",
     "output_type": "stream",
     "text": [
      "CoxPH\n",
      "(0.9929917107642888, 0.2996259542553115)\n",
      "(0.9586020022105567, 0.5869649022522988)\n",
      "(0.5, 0.22764961401484202)\n",
      "\n",
      "\n",
      "CoxPHRidge\n",
      "(0.9920567612430803, 0.2985827479386931)\n",
      "(0.9590604855505684, 0.5855807653807268)\n",
      "(0.5, 0.22764961401484202)\n",
      "\n",
      "\n",
      "Weibull\n",
      "(0.9903636068006584, 0.29909928684682996)\n",
      "(0.9586272194817975, 0.5821732081320631)\n",
      "(0.9728794277731789, 0.796748495275298)\n",
      "\n",
      "\n",
      "LogNormal\n",
      "(0.9924807754718719, 0.29906521792034474)\n",
      "(0.9620912284449539, 0.5817308607187706)\n",
      "(0.9760172069376557, 0.7977217633559923)\n",
      "\n",
      "\n",
      "LogLogistic\n",
      "(0.9931586852744074, 0.29934840361123893)\n",
      "(0.9614639556928014, 0.5821931897081801)\n",
      "(0.9763668438936619, 0.7968824155177144)\n",
      "\n",
      "\n",
      "RandomSurvForest\n",
      "(0.9979759504166107, 0.29924115181794175)\n",
      "(0.9945295856541544, 0.5797692494242056)\n",
      "(0.991301421570603, 0.7876237046672441)\n",
      "\n",
      "\n"
     ]
    }
   ],
   "source": [
    "# Prediction and calibration & discrimination performance for each survival model from ensemble:\n",
    "for m in range(model_sq.M):\n",
    "    tmp_pred_eval = model_sq.underlying_models[m].predict(te_X, eval_time_horizons)\n",
    "    #Name des Modells:\n",
    "    model_names = str(model_sq.model_names[m])\n",
    "    print(model_names) #Name des Modells\n",
    "    \n",
    "    if model_sq.quilting_patterns[0][m] > 0.5: #first time check\n",
    "        #print('For time = ',eval_time,'best weight in this model (',model_sq.quilting_patterns[e_idx][m],')\\n')\n",
    "        tmp_pred_LN=tmp_pred_eval\n",
    "        name = model_names\n",
    "    if (model_sq.quilting_patterns[0][m] > 0.) & (model_sq.quilting_patterns[0][m] <0.5):\n",
    "        print('->',model_sq.quilting_patterns[e_idx][m])\n",
    "\n",
    "    for e_idx, eval_time in enumerate(eval_time_horizons):\n",
    "        print( calc_metrics(tr_T, tr_Y, te_T, te_Y, tmp_pred_eval[:, e_idx], eval_time) )\n",
    "    print('\\n')\n",
    "   "
   ]
  },
  {
   "cell_type": "code",
   "execution_count": 27,
   "metadata": {},
   "outputs": [
    {
     "name": "stdout",
     "output_type": "stream",
     "text": [
      "\n",
      " time:  12\n",
      "RandomSurvForest (0.9979759504166107, 0.29924115181794175)\n",
      "SurvivalQuilt    (0.9977832086282529, 0.2981981727659572)\n",
      "\n",
      " time:  21\n",
      "RandomSurvForest (0.9945295856541544, 0.5797692494242056)\n",
      "SurvivalQuilt    (0.9937583129849452, 0.5793767920941533)\n",
      "\n",
      " time:  31\n",
      "RandomSurvForest (0.991301421570603, 0.7876237046672441)\n",
      "SurvivalQuilt    (0.9902026867919621, 0.7893484420412433)\n"
     ]
    }
   ],
   "source": [
    "# Compare performance of the best model from ensemble with SurvivalQuilt:\n",
    "for t in range(len(eval_time_horizons)):\n",
    "    print('\\n',\"time: \", eval_time_horizons[t]) \n",
    "\n",
    "    print(name,calc_metrics(tr_T, tr_Y, te_T, te_Y, tmp_pred_LN[:, t], eval_time_horizons[t]))\n",
    "    print(\"SurvivalQuilt   \",calc_metrics(tr_T, tr_Y, te_T, te_Y, pred[:, t], eval_time_horizons[t]))"
   ]
  },
  {
   "cell_type": "code",
   "execution_count": null,
   "metadata": {},
   "outputs": [],
   "source": []
  }
 ],
 "metadata": {
  "kernelspec": {
   "display_name": "Python 3",
   "language": "python",
   "name": "python3"
  },
  "language_info": {
   "codemirror_mode": {
    "name": "ipython",
    "version": 3
   },
   "file_extension": ".py",
   "mimetype": "text/x-python",
   "name": "python",
   "nbconvert_exporter": "python",
   "pygments_lexer": "ipython3",
   "version": "3.8.5"
  }
 },
 "nbformat": 4,
 "nbformat_minor": 2
}
